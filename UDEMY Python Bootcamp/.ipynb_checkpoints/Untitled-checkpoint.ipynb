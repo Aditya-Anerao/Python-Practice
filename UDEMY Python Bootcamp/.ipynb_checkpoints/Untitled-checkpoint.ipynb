{
 "cells": [
  {
   "cell_type": "code",
   "execution_count": 1,
   "metadata": {},
   "outputs": [
    {
     "output_type": "stream",
     "name": "stdout",
     "text": [
      "r\n"
     ]
    }
   ],
   "source": []
  },
  {
   "cell_type": "code",
   "execution_count": null,
   "metadata": {},
   "outputs": [],
   "source": []
  }
 ],
 "metadata": {
  "kernelspec": {
   "name": "python3",
   "display_name": "Python 3.9.2 64-bit",
   "metadata": {
    "interpreter": {
     "hash": "60ca5820ed0d253b81ba40679912483df3b93aac50ea95f6b489d9b8ba9580e7"
    }
   }
  }
 },
 "nbformat": 4,
 "nbformat_minor": 2
}